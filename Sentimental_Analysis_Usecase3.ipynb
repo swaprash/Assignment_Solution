{
  "nbformat": 4,
  "nbformat_minor": 0,
  "metadata": {
    "colab": {
      "name": "Sentimental_Analysis_Usecase3.ipynb",
      "provenance": [],
      "collapsed_sections": [],
      "authorship_tag": "ABX9TyMY1CXVdcnOy6MzAga4j3tw"
    },
    "kernelspec": {
      "name": "python3",
      "display_name": "Python 3"
    }
  },
  "cells": [
    {
      "cell_type": "markdown",
      "metadata": {
        "id": "gGar_bBS1slk",
        "colab_type": "text"
      },
      "source": [
        "# Import Necessary Libraries"
      ]
    },
    {
      "cell_type": "code",
      "metadata": {
        "id": "EDLlei6LeMz0",
        "colab_type": "code",
        "colab": {}
      },
      "source": [
        "# Import Required Libraries\n",
        "import pandas as pd\n",
        "import emoji\n",
        "import spacy\n",
        "pd.options.display.max_colwidth = 100\n",
        "import tensorflow as tf\n",
        "import numpy as np\n",
        "from sklearn.model_selection import train_test_split\n",
        "import matplotlib.pyplot as plt\n",
        "import seaborn as sns\n",
        "from sklearn.preprocessing import LabelEncoder\n",
        "from sklearn.tree import DecisionTreeClassifier\n",
        "from sklearn.ensemble import RandomForestClassifier\n",
        "from xgboost import XGBClassifier\n",
        "from sklearn.svm import SVC\n",
        "from sklearn.metrics import plot_confusion_matrix\n",
        "from sklearn.feature_extraction.text import TfidfVectorizer\n",
        "from sklearn.linear_model import LogisticRegression\n",
        "from sklearn.pipeline import Pipeline\n",
        "from sklearn.metrics import accuracy_score, precision_score, recall_score"
      ],
      "execution_count": 147,
      "outputs": []
    },
    {
      "cell_type": "markdown",
      "metadata": {
        "id": "oVHyLJCc15-o",
        "colab_type": "text"
      },
      "source": [
        "# Data Acquisition"
      ]
    },
    {
      "cell_type": "code",
      "metadata": {
        "id": "ExiB6Y5ieVOu",
        "colab_type": "code",
        "colab": {}
      },
      "source": [
        "# Read data from csv file and create dataframe\n",
        "data=pd.read_csv('Usecase3_Dataset.csv')"
      ],
      "execution_count": 148,
      "outputs": []
    },
    {
      "cell_type": "markdown",
      "metadata": {
        "id": "AAoUCfnN2Je-",
        "colab_type": "text"
      },
      "source": [
        "# Know Your Data "
      ]
    },
    {
      "cell_type": "code",
      "metadata": {
        "id": "HVKenBKIehtO",
        "colab_type": "code",
        "colab": {
          "base_uri": "https://localhost:8080/",
          "height": 34
        },
        "outputId": "173c0f57-1a6a-4ca8-e394-8ea6c2818ee8"
      },
      "source": [
        "# Check shape of the dataframe to know number of rows and columns\n",
        "data.shape"
      ],
      "execution_count": 149,
      "outputs": [
        {
          "output_type": "execute_result",
          "data": {
            "text/plain": [
              "(14640, 3)"
            ]
          },
          "metadata": {
            "tags": []
          },
          "execution_count": 149
        }
      ]
    },
    {
      "cell_type": "code",
      "metadata": {
        "id": "PugAnxqWemZG",
        "colab_type": "code",
        "colab": {
          "base_uri": "https://localhost:8080/",
          "height": 187
        },
        "outputId": "80f38224-f8a6-4427-cd98-98ed91dd25e5"
      },
      "source": [
        "# Get info about your data\n",
        "data.info()"
      ],
      "execution_count": 150,
      "outputs": [
        {
          "output_type": "stream",
          "text": [
            "<class 'pandas.core.frame.DataFrame'>\n",
            "RangeIndex: 14640 entries, 0 to 14639\n",
            "Data columns (total 3 columns):\n",
            " #   Column             Non-Null Count  Dtype \n",
            "---  ------             --------------  ----- \n",
            " 0   airline_sentiment  14640 non-null  object\n",
            " 1   airline            14640 non-null  object\n",
            " 2   text               14640 non-null  object\n",
            "dtypes: object(3)\n",
            "memory usage: 343.2+ KB\n"
          ],
          "name": "stdout"
        }
      ]
    },
    {
      "cell_type": "code",
      "metadata": {
        "id": "CHe1uW9QeoLW",
        "colab_type": "code",
        "colab": {
          "base_uri": "https://localhost:8080/",
          "height": 173
        },
        "outputId": "e60c414d-511f-4082-fec5-da7a7c76cd00"
      },
      "source": [
        "# Statistical summary of data\n",
        "data.describe()"
      ],
      "execution_count": 151,
      "outputs": [
        {
          "output_type": "execute_result",
          "data": {
            "text/html": [
              "<div>\n",
              "<style scoped>\n",
              "    .dataframe tbody tr th:only-of-type {\n",
              "        vertical-align: middle;\n",
              "    }\n",
              "\n",
              "    .dataframe tbody tr th {\n",
              "        vertical-align: top;\n",
              "    }\n",
              "\n",
              "    .dataframe thead th {\n",
              "        text-align: right;\n",
              "    }\n",
              "</style>\n",
              "<table border=\"1\" class=\"dataframe\">\n",
              "  <thead>\n",
              "    <tr style=\"text-align: right;\">\n",
              "      <th></th>\n",
              "      <th>airline_sentiment</th>\n",
              "      <th>airline</th>\n",
              "      <th>text</th>\n",
              "    </tr>\n",
              "  </thead>\n",
              "  <tbody>\n",
              "    <tr>\n",
              "      <th>count</th>\n",
              "      <td>14640</td>\n",
              "      <td>14640</td>\n",
              "      <td>14640</td>\n",
              "    </tr>\n",
              "    <tr>\n",
              "      <th>unique</th>\n",
              "      <td>3</td>\n",
              "      <td>6</td>\n",
              "      <td>14427</td>\n",
              "    </tr>\n",
              "    <tr>\n",
              "      <th>top</th>\n",
              "      <td>negative</td>\n",
              "      <td>United</td>\n",
              "      <td>@united thanks</td>\n",
              "    </tr>\n",
              "    <tr>\n",
              "      <th>freq</th>\n",
              "      <td>9178</td>\n",
              "      <td>3822</td>\n",
              "      <td>6</td>\n",
              "    </tr>\n",
              "  </tbody>\n",
              "</table>\n",
              "</div>"
            ],
            "text/plain": [
              "       airline_sentiment airline            text\n",
              "count              14640   14640           14640\n",
              "unique                 3       6           14427\n",
              "top             negative  United  @united thanks\n",
              "freq                9178    3822               6"
            ]
          },
          "metadata": {
            "tags": []
          },
          "execution_count": 151
        }
      ]
    },
    {
      "cell_type": "code",
      "metadata": {
        "id": "8k_oLqZSfMa1",
        "colab_type": "code",
        "colab": {
          "base_uri": "https://localhost:8080/",
          "height": 204
        },
        "outputId": "1bc95925-5ad1-4f72-ff05-8394de15d345"
      },
      "source": [
        "# Check first few records of dataframe\n",
        "data.head()"
      ],
      "execution_count": 152,
      "outputs": [
        {
          "output_type": "execute_result",
          "data": {
            "text/html": [
              "<div>\n",
              "<style scoped>\n",
              "    .dataframe tbody tr th:only-of-type {\n",
              "        vertical-align: middle;\n",
              "    }\n",
              "\n",
              "    .dataframe tbody tr th {\n",
              "        vertical-align: top;\n",
              "    }\n",
              "\n",
              "    .dataframe thead th {\n",
              "        text-align: right;\n",
              "    }\n",
              "</style>\n",
              "<table border=\"1\" class=\"dataframe\">\n",
              "  <thead>\n",
              "    <tr style=\"text-align: right;\">\n",
              "      <th></th>\n",
              "      <th>airline_sentiment</th>\n",
              "      <th>airline</th>\n",
              "      <th>text</th>\n",
              "    </tr>\n",
              "  </thead>\n",
              "  <tbody>\n",
              "    <tr>\n",
              "      <th>0</th>\n",
              "      <td>neutral</td>\n",
              "      <td>Virgin America</td>\n",
              "      <td>@VirginAmerica What @dhepburn said.</td>\n",
              "    </tr>\n",
              "    <tr>\n",
              "      <th>1</th>\n",
              "      <td>positive</td>\n",
              "      <td>Virgin America</td>\n",
              "      <td>@VirginAmerica plus you've added commercials to the experience... tacky.</td>\n",
              "    </tr>\n",
              "    <tr>\n",
              "      <th>2</th>\n",
              "      <td>neutral</td>\n",
              "      <td>Virgin America</td>\n",
              "      <td>@VirginAmerica I didn't today... Must mean I need to take another trip!</td>\n",
              "    </tr>\n",
              "    <tr>\n",
              "      <th>3</th>\n",
              "      <td>negative</td>\n",
              "      <td>Virgin America</td>\n",
              "      <td>@VirginAmerica it's really aggressive to blast obnoxious \"entertainment\" in your guests' faces &amp;...</td>\n",
              "    </tr>\n",
              "    <tr>\n",
              "      <th>4</th>\n",
              "      <td>negative</td>\n",
              "      <td>Virgin America</td>\n",
              "      <td>@VirginAmerica and it's a really big bad thing about it</td>\n",
              "    </tr>\n",
              "  </tbody>\n",
              "</table>\n",
              "</div>"
            ],
            "text/plain": [
              "  airline_sentiment  ...                                                                                                 text\n",
              "0           neutral  ...                                                                  @VirginAmerica What @dhepburn said.\n",
              "1          positive  ...                             @VirginAmerica plus you've added commercials to the experience... tacky.\n",
              "2           neutral  ...                              @VirginAmerica I didn't today... Must mean I need to take another trip!\n",
              "3          negative  ...  @VirginAmerica it's really aggressive to blast obnoxious \"entertainment\" in your guests' faces &...\n",
              "4          negative  ...                                              @VirginAmerica and it's a really big bad thing about it\n",
              "\n",
              "[5 rows x 3 columns]"
            ]
          },
          "metadata": {
            "tags": []
          },
          "execution_count": 152
        }
      ]
    },
    {
      "cell_type": "code",
      "metadata": {
        "id": "kk5aVRvmkbPo",
        "colab_type": "code",
        "colab": {
          "base_uri": "https://localhost:8080/",
          "height": 85
        },
        "outputId": "ee79f234-2767-4b78-f700-284cfed4ca14"
      },
      "source": [
        "# Check for null values in dataframe\n",
        "data.isna().sum()"
      ],
      "execution_count": 153,
      "outputs": [
        {
          "output_type": "execute_result",
          "data": {
            "text/plain": [
              "airline_sentiment    0\n",
              "airline              0\n",
              "text                 0\n",
              "dtype: int64"
            ]
          },
          "metadata": {
            "tags": []
          },
          "execution_count": 153
        }
      ]
    },
    {
      "cell_type": "markdown",
      "metadata": {
        "id": "-DgHvHqj2UL5",
        "colab_type": "text"
      },
      "source": [
        "# Data Preparation"
      ]
    },
    {
      "cell_type": "code",
      "metadata": {
        "id": "5TR3QSseylTI",
        "colab_type": "code",
        "colab": {}
      },
      "source": [
        "#Removal of hashtags and oter mentions\n",
        "data['text'] = data['text'].str.replace('(@[A-Za-z0-9]+)|(#[A-Za-z0-9]+)', \" \")"
      ],
      "execution_count": 154,
      "outputs": []
    },
    {
      "cell_type": "code",
      "metadata": {
        "id": "UpYu5iGDylqK",
        "colab_type": "code",
        "colab": {
          "base_uri": "https://localhost:8080/",
          "height": 204
        },
        "outputId": "86f200b5-b10a-4489-b9a8-d56eba52ae92"
      },
      "source": [
        "# Check data after removing hashtags \n",
        "data.head()"
      ],
      "execution_count": 155,
      "outputs": [
        {
          "output_type": "execute_result",
          "data": {
            "text/html": [
              "<div>\n",
              "<style scoped>\n",
              "    .dataframe tbody tr th:only-of-type {\n",
              "        vertical-align: middle;\n",
              "    }\n",
              "\n",
              "    .dataframe tbody tr th {\n",
              "        vertical-align: top;\n",
              "    }\n",
              "\n",
              "    .dataframe thead th {\n",
              "        text-align: right;\n",
              "    }\n",
              "</style>\n",
              "<table border=\"1\" class=\"dataframe\">\n",
              "  <thead>\n",
              "    <tr style=\"text-align: right;\">\n",
              "      <th></th>\n",
              "      <th>airline_sentiment</th>\n",
              "      <th>airline</th>\n",
              "      <th>text</th>\n",
              "    </tr>\n",
              "  </thead>\n",
              "  <tbody>\n",
              "    <tr>\n",
              "      <th>0</th>\n",
              "      <td>neutral</td>\n",
              "      <td>Virgin America</td>\n",
              "      <td>What   said.</td>\n",
              "    </tr>\n",
              "    <tr>\n",
              "      <th>1</th>\n",
              "      <td>positive</td>\n",
              "      <td>Virgin America</td>\n",
              "      <td>plus you've added commercials to the experience... tacky.</td>\n",
              "    </tr>\n",
              "    <tr>\n",
              "      <th>2</th>\n",
              "      <td>neutral</td>\n",
              "      <td>Virgin America</td>\n",
              "      <td>I didn't today... Must mean I need to take another trip!</td>\n",
              "    </tr>\n",
              "    <tr>\n",
              "      <th>3</th>\n",
              "      <td>negative</td>\n",
              "      <td>Virgin America</td>\n",
              "      <td>it's really aggressive to blast obnoxious \"entertainment\" in your guests' faces &amp;amp; they hav...</td>\n",
              "    </tr>\n",
              "    <tr>\n",
              "      <th>4</th>\n",
              "      <td>negative</td>\n",
              "      <td>Virgin America</td>\n",
              "      <td>and it's a really big bad thing about it</td>\n",
              "    </tr>\n",
              "  </tbody>\n",
              "</table>\n",
              "</div>"
            ],
            "text/plain": [
              "  airline_sentiment  ...                                                                                                 text\n",
              "0           neutral  ...                                                                                         What   said.\n",
              "1          positive  ...                                            plus you've added commercials to the experience... tacky.\n",
              "2           neutral  ...                                             I didn't today... Must mean I need to take another trip!\n",
              "3          negative  ...    it's really aggressive to blast obnoxious \"entertainment\" in your guests' faces &amp; they hav...\n",
              "4          negative  ...                                                             and it's a really big bad thing about it\n",
              "\n",
              "[5 rows x 3 columns]"
            ]
          },
          "metadata": {
            "tags": []
          },
          "execution_count": 155
        }
      ]
    },
    {
      "cell_type": "code",
      "metadata": {
        "id": "P3SouAjkyl-v",
        "colab_type": "code",
        "colab": {}
      },
      "source": [
        "#Removal of Punctuation\n",
        "data['text'] = data['text'].str.replace('[\\.\\,\\!\\?\\:\\;\\-\\=]', \" \")"
      ],
      "execution_count": 156,
      "outputs": []
    },
    {
      "cell_type": "code",
      "metadata": {
        "id": "L4V-_0Ik4-pR",
        "colab_type": "code",
        "colab": {}
      },
      "source": [
        "#Lower case\n",
        "data['text'] =data['text'].str.lower()"
      ],
      "execution_count": 157,
      "outputs": []
    },
    {
      "cell_type": "code",
      "metadata": {
        "id": "wsiN5FbW4-aX",
        "colab_type": "code",
        "colab": {
          "base_uri": "https://localhost:8080/",
          "height": 221
        },
        "outputId": "1f43345e-7a41-4b65-e882-4835b917945f"
      },
      "source": [
        "# Check text after cleanining unwanted stuff\n",
        "data.text\n"
      ],
      "execution_count": 158,
      "outputs": [
        {
          "output_type": "execute_result",
          "data": {
            "text/plain": [
              "0                                                                                               what   said \n",
              "1                                                  plus you've added commercials to the experience    tacky \n",
              "2                                                   i didn't today    must mean i need to take another trip \n",
              "3          it's really aggressive to blast obnoxious \"entertainment\" in your guests' faces &amp  they hav...\n",
              "4                                                                   and it's a really big bad thing about it\n",
              "                                                        ...                                                 \n",
              "14635                                                     thank you we got on a different flight to chicago \n",
              "14636      leaving over 20 minutes late flight  no warnings or communication until we were 15 minutes lat...\n",
              "14637                                                                    please bring american airlines to  \n",
              "14638      you have my money  you change my flight  and don't answer your phones  any other suggestions s...\n",
              "14639      we have 8 ppl so we need 2 know how many seats are on the next flight  plz put us on standby f...\n",
              "Name: text, Length: 14640, dtype: object"
            ]
          },
          "metadata": {
            "tags": []
          },
          "execution_count": 158
        }
      ]
    },
    {
      "cell_type": "code",
      "metadata": {
        "id": "kcKZ2eR0-5Fj",
        "colab_type": "code",
        "colab": {}
      },
      "source": [
        "# Replace emoji's with relevant text\n",
        "data['text']=[emoji.demojize(data['text'].loc[i]) for i in range(len(data['text']))]"
      ],
      "execution_count": 159,
      "outputs": []
    },
    {
      "cell_type": "code",
      "metadata": {
        "id": "VmOku0Md-5XK",
        "colab_type": "code",
        "colab": {}
      },
      "source": [
        "# Remove unwanted stuff\n",
        "data['text'] = data['text'].str.replace(\":\",\" \")"
      ],
      "execution_count": 160,
      "outputs": []
    },
    {
      "cell_type": "code",
      "metadata": {
        "id": "hyG2T9-c-5gn",
        "colab_type": "code",
        "colab": {
          "base_uri": "https://localhost:8080/",
          "height": 204
        },
        "outputId": "a45ef1ff-1344-4f3b-8453-410e3ce5b9cd"
      },
      "source": [
        "# check data after cleaning stuff\n",
        "data.head()"
      ],
      "execution_count": 161,
      "outputs": [
        {
          "output_type": "execute_result",
          "data": {
            "text/html": [
              "<div>\n",
              "<style scoped>\n",
              "    .dataframe tbody tr th:only-of-type {\n",
              "        vertical-align: middle;\n",
              "    }\n",
              "\n",
              "    .dataframe tbody tr th {\n",
              "        vertical-align: top;\n",
              "    }\n",
              "\n",
              "    .dataframe thead th {\n",
              "        text-align: right;\n",
              "    }\n",
              "</style>\n",
              "<table border=\"1\" class=\"dataframe\">\n",
              "  <thead>\n",
              "    <tr style=\"text-align: right;\">\n",
              "      <th></th>\n",
              "      <th>airline_sentiment</th>\n",
              "      <th>airline</th>\n",
              "      <th>text</th>\n",
              "    </tr>\n",
              "  </thead>\n",
              "  <tbody>\n",
              "    <tr>\n",
              "      <th>0</th>\n",
              "      <td>neutral</td>\n",
              "      <td>Virgin America</td>\n",
              "      <td>what   said</td>\n",
              "    </tr>\n",
              "    <tr>\n",
              "      <th>1</th>\n",
              "      <td>positive</td>\n",
              "      <td>Virgin America</td>\n",
              "      <td>plus you've added commercials to the experience    tacky</td>\n",
              "    </tr>\n",
              "    <tr>\n",
              "      <th>2</th>\n",
              "      <td>neutral</td>\n",
              "      <td>Virgin America</td>\n",
              "      <td>i didn't today    must mean i need to take another trip</td>\n",
              "    </tr>\n",
              "    <tr>\n",
              "      <th>3</th>\n",
              "      <td>negative</td>\n",
              "      <td>Virgin America</td>\n",
              "      <td>it's really aggressive to blast obnoxious \"entertainment\" in your guests' faces &amp;amp  they hav...</td>\n",
              "    </tr>\n",
              "    <tr>\n",
              "      <th>4</th>\n",
              "      <td>negative</td>\n",
              "      <td>Virgin America</td>\n",
              "      <td>and it's a really big bad thing about it</td>\n",
              "    </tr>\n",
              "  </tbody>\n",
              "</table>\n",
              "</div>"
            ],
            "text/plain": [
              "  airline_sentiment  ...                                                                                                 text\n",
              "0           neutral  ...                                                                                         what   said \n",
              "1          positive  ...                                            plus you've added commercials to the experience    tacky \n",
              "2           neutral  ...                                             i didn't today    must mean i need to take another trip \n",
              "3          negative  ...    it's really aggressive to blast obnoxious \"entertainment\" in your guests' faces &amp  they hav...\n",
              "4          negative  ...                                                             and it's a really big bad thing about it\n",
              "\n",
              "[5 rows x 3 columns]"
            ]
          },
          "metadata": {
            "tags": []
          },
          "execution_count": 161
        }
      ]
    },
    {
      "cell_type": "code",
      "metadata": {
        "id": "QPA6ZSCSJzcx",
        "colab_type": "code",
        "colab": {}
      },
      "source": [
        "# Create  contract dictionary for english words  \n",
        "contraction= {\n",
        "        \"ain't\":\"is not\",\n",
        "        \"amn't\":\"am not\",\n",
        "        \"aren't\":\"are not\",\n",
        "        \"can't\":\"cannot\",\n",
        "        \"'cause\":\"because\",\n",
        "        \"couldn't\":\"could not\",\n",
        "        \"couldn't've\":\"could not have\",\n",
        "        \"could've\":\"could have\",\n",
        "        \"daren't\":\"dare not\",\n",
        "        \"daresn't\":\"dare not\",\n",
        "        \"dasn't\":\"dare not\",\n",
        "        \"didn't\":\"did not\",\n",
        "        \"doesn't\":\"does not\",\n",
        "        \"don't\":\"do not\",\n",
        "        \"e'er\":\"ever\",\n",
        "        \"em\":\"them\",\n",
        "        \"everyone's\":\"everyone is\",\n",
        "        \"finna\":\"fixing to\",\n",
        "        \"gimme\":\"give me\",\n",
        "        \"gonna\":\"going to\",\n",
        "        \"gon't\":\"go not\",\n",
        "        \"gotta\":\"got to\",\n",
        "        \"hadn't\":\"had not\",\n",
        "        \"hasn't\":\"has not\",\n",
        "        \"haven't\":\"have not\",\n",
        "        \"he'd\":\"he would\",\n",
        "        \"he'll\":\"he will\",\n",
        "        \"he's\":\"he is\",\n",
        "        \"he've\":\"he have\",\n",
        "        \"how'd\":\"how would\",\n",
        "        \"how'll\":\"how will\",\n",
        "        \"how're\":\"how are\",\n",
        "        \"how's\":\"how is\",\n",
        "        \"I'd\":\"I would\",\n",
        "        \"I'll\":\"I will\",\n",
        "        \"I'm\":\"I am\",\n",
        "        \"I'm'a\":\"I am about to\",\n",
        "        \"I'm'o\":\"I am going to\",\n",
        "        \"isn't\":\"is not\",\n",
        "        \"it'd\":\"it would\",\n",
        "        \"it'll\":\"it will\",\n",
        "        \"it's\":\"it is\",\n",
        "        \"I've\":\"I have\",\n",
        "        \"kinda\":\"kind of\",\n",
        "        \"let's\":\"let us\",\n",
        "        \"mayn't\":\"may not\",\n",
        "        \"may've\":\"may have\",\n",
        "        \"mightn't\":\"might not\",\n",
        "        \"might've\":\"might have\",\n",
        "        \"mustn't\":\"must not\",\n",
        "        \"mustn't've\":\"must not have\",\n",
        "        \"must've\":\"must have\",\n",
        "        \"needn't\":\"need not\",\n",
        "        \"ne'er\":\"never\",\n",
        "        \"o'\":\"of\",\n",
        "        \"o'er\":\"over\",\n",
        "        \"ol'\":\"old\",\n",
        "        \"oughtn't\":\"ought not\",\n",
        "        \"shalln't\":\"shall not\",\n",
        "        \"shan't\":\"shall not\",\n",
        "        \"she'd\":\"she would\",\n",
        "        \"she'll\":\"she will\",\n",
        "        \"she's\":\"she is\",\n",
        "        \"shouldn't\":\"should not\",\n",
        "        \"shouldn't've\":\"should not have\",\n",
        "        \"should've\":\"should have\",\n",
        "        \"somebody's\":\"somebody is\",\n",
        "        \"someone's\":\"someone is\",\n",
        "        \"something's\":\"something is\",\n",
        "        \"that'd\":\"that would\",\n",
        "        \"that'll\":\"that will\",\n",
        "        \"that're\":\"that are\",\n",
        "        \"that's\":\"that is\",\n",
        "        \"there'd\":\"there would\",\n",
        "        \"there'll\":\"there will\",\n",
        "        \"there're\":\"there are\",\n",
        "        \"there's\":\"there is\",\n",
        "        \"these're\":\"these are\",\n",
        "        \"they'd\":\"they would\",\n",
        "        \"they'll\":\"they will\",\n",
        "        \"they're\":\"they are\",\n",
        "        \"they've\":\"they have\",\n",
        "        \"this's\":\"this is\",\n",
        "        \"those're\":\"those are\",\n",
        "        \"'tis\":\"it is\",\n",
        "        \"'twas\":\"it was\",\n",
        "        \"wanna\":\"want to\",\n",
        "        \"wasn't\":\"was not\",\n",
        "        \"we'd\":\"we would\",\n",
        "        \"we'd've\":\"we would have\",\n",
        "        \"we'll\":\"we will\",\n",
        "        \"we're\":\"we are\",\n",
        "        \"weren't\":\"were not\",\n",
        "        \"we've\":\"we have\",\n",
        "        \"what'd\":\"what did\",\n",
        "        \"what'll\":\"what will\",\n",
        "        \"what're\":\"what are\",\n",
        "        \"what's\":\"what is\",\n",
        "        \"what've\":\"what have\",\n",
        "        \"when's\":\"when is\",\n",
        "        \"where'd\":\"where did\",\n",
        "        \"where're\":\"where are\",\n",
        "        \"where's\":\"where is\",\n",
        "        \"where've\":\"where have\",\n",
        "        \"which's\":\"which is\",\n",
        "        \"who'd\":\"who would\",\n",
        "        \"who'd've\":\"who would have\",\n",
        "        \"who'll\":\"who will\",\n",
        "        \"who're\":\"who are\",\n",
        "        \"who's\":\"who is\",\n",
        "        \"who've\":\"who have\",\n",
        "        \"why'd\":\"why did\",\n",
        "        \"why're\":\"why are\",\n",
        "        \"why's\":\"why is\",\n",
        "        \"won't\":\"will not\",\n",
        "        \"wouldn't\":\"would not\",\n",
        "        \"would've\":\"would have\",\n",
        "        \"y'all\":\"you all\",\n",
        "        \"you'd\":\"you would\",\n",
        "        \"you'll\":\"you will\",\n",
        "        \"you're\":\"you are\",\n",
        "        \"you've\":\"you have\",\n",
        "        \"Whatcha\":\"What are you\",\n",
        "        \"luv\":\"love\",\n",
        "        \"sux\":\"sucks\"\n",
        "        }\n",
        "\n"
      ],
      "execution_count": 162,
      "outputs": []
    },
    {
      "cell_type": "code",
      "metadata": {
        "id": "b1iSJwL4SGF5",
        "colab_type": "code",
        "colab": {
          "base_uri": "https://localhost:8080/",
          "height": 34
        },
        "outputId": "dcb2bce8-485e-4323-ebc4-8690087ed157"
      },
      "source": [
        "type(contraction)"
      ],
      "execution_count": 163,
      "outputs": [
        {
          "output_type": "execute_result",
          "data": {
            "text/plain": [
              "dict"
            ]
          },
          "metadata": {
            "tags": []
          },
          "execution_count": 163
        }
      ]
    },
    {
      "cell_type": "code",
      "metadata": {
        "id": "Ik-idD-6S8Ub",
        "colab_type": "code",
        "colab": {
          "base_uri": "https://localhost:8080/",
          "height": 204
        },
        "outputId": "fd4b7279-a8b9-4bc5-c2e3-e16b031a4b2c"
      },
      "source": [
        "# data before replacing contraction\n",
        "data.head()"
      ],
      "execution_count": 164,
      "outputs": [
        {
          "output_type": "execute_result",
          "data": {
            "text/html": [
              "<div>\n",
              "<style scoped>\n",
              "    .dataframe tbody tr th:only-of-type {\n",
              "        vertical-align: middle;\n",
              "    }\n",
              "\n",
              "    .dataframe tbody tr th {\n",
              "        vertical-align: top;\n",
              "    }\n",
              "\n",
              "    .dataframe thead th {\n",
              "        text-align: right;\n",
              "    }\n",
              "</style>\n",
              "<table border=\"1\" class=\"dataframe\">\n",
              "  <thead>\n",
              "    <tr style=\"text-align: right;\">\n",
              "      <th></th>\n",
              "      <th>airline_sentiment</th>\n",
              "      <th>airline</th>\n",
              "      <th>text</th>\n",
              "    </tr>\n",
              "  </thead>\n",
              "  <tbody>\n",
              "    <tr>\n",
              "      <th>0</th>\n",
              "      <td>neutral</td>\n",
              "      <td>Virgin America</td>\n",
              "      <td>what   said</td>\n",
              "    </tr>\n",
              "    <tr>\n",
              "      <th>1</th>\n",
              "      <td>positive</td>\n",
              "      <td>Virgin America</td>\n",
              "      <td>plus you've added commercials to the experience    tacky</td>\n",
              "    </tr>\n",
              "    <tr>\n",
              "      <th>2</th>\n",
              "      <td>neutral</td>\n",
              "      <td>Virgin America</td>\n",
              "      <td>i didn't today    must mean i need to take another trip</td>\n",
              "    </tr>\n",
              "    <tr>\n",
              "      <th>3</th>\n",
              "      <td>negative</td>\n",
              "      <td>Virgin America</td>\n",
              "      <td>it's really aggressive to blast obnoxious \"entertainment\" in your guests' faces &amp;amp  they hav...</td>\n",
              "    </tr>\n",
              "    <tr>\n",
              "      <th>4</th>\n",
              "      <td>negative</td>\n",
              "      <td>Virgin America</td>\n",
              "      <td>and it's a really big bad thing about it</td>\n",
              "    </tr>\n",
              "  </tbody>\n",
              "</table>\n",
              "</div>"
            ],
            "text/plain": [
              "  airline_sentiment  ...                                                                                                 text\n",
              "0           neutral  ...                                                                                         what   said \n",
              "1          positive  ...                                            plus you've added commercials to the experience    tacky \n",
              "2           neutral  ...                                             i didn't today    must mean i need to take another trip \n",
              "3          negative  ...    it's really aggressive to blast obnoxious \"entertainment\" in your guests' faces &amp  they hav...\n",
              "4          negative  ...                                                             and it's a really big bad thing about it\n",
              "\n",
              "[5 rows x 3 columns]"
            ]
          },
          "metadata": {
            "tags": []
          },
          "execution_count": 164
        }
      ]
    },
    {
      "cell_type": "code",
      "metadata": {
        "id": "s5pNaUXFQvYw",
        "colab_type": "code",
        "colab": {}
      },
      "source": [
        "# Replace contraction\n",
        "data['text']=data['text'].replace(contraction,regex=True)"
      ],
      "execution_count": 165,
      "outputs": []
    },
    {
      "cell_type": "code",
      "metadata": {
        "id": "MP0odlufJzWy",
        "colab_type": "code",
        "colab": {
          "base_uri": "https://localhost:8080/",
          "height": 221
        },
        "outputId": "7fa73d73-ecc8-4de5-d91e-38a0df350c0d"
      },
      "source": [
        "# Data after replacement of contraction\n",
        "data.text"
      ],
      "execution_count": 166,
      "outputs": [
        {
          "output_type": "execute_result",
          "data": {
            "text/plain": [
              "0                                                                                               what   said \n",
              "1                                                plus you have added commercials to the experience    tacky \n",
              "2                                                  i did not today    must mean i need to take another trip \n",
              "3          it is really aggressive to blast obnoxious \"entertainment\" in your guests' faces &amp  they ha...\n",
              "4                                                                  and it is a really big bad thing about it\n",
              "                                                        ...                                                 \n",
              "14635                                                     thank you we got on a different flight to chicago \n",
              "14636      leaving over 20 minutes late flight  no warnings or communication until we were 15 minutes lat...\n",
              "14637                                                                    please bring american airlines to  \n",
              "14638      you have my money  you change my flight  and do not answer your phones  any other suggestions ...\n",
              "14639      we have 8 ppl so we need 2 know how many seats are on the next flight  plz put us on standby f...\n",
              "Name: text, Length: 14640, dtype: object"
            ]
          },
          "metadata": {
            "tags": []
          },
          "execution_count": 166
        }
      ]
    },
    {
      "cell_type": "code",
      "metadata": {
        "id": "pehcur4QOUab",
        "colab_type": "code",
        "colab": {}
      },
      "source": [
        "# Grab only required data\n",
        "df=data[['text','airline_sentiment']]"
      ],
      "execution_count": 167,
      "outputs": []
    },
    {
      "cell_type": "code",
      "metadata": {
        "id": "V7HMU24LOU9a",
        "colab_type": "code",
        "colab": {
          "base_uri": "https://localhost:8080/",
          "height": 204
        },
        "outputId": "8e036b08-dae2-4e84-dcfd-3bedb8485e3a"
      },
      "source": [
        "# Check first few records of new dataframe\n",
        "df.head()"
      ],
      "execution_count": 168,
      "outputs": [
        {
          "output_type": "execute_result",
          "data": {
            "text/html": [
              "<div>\n",
              "<style scoped>\n",
              "    .dataframe tbody tr th:only-of-type {\n",
              "        vertical-align: middle;\n",
              "    }\n",
              "\n",
              "    .dataframe tbody tr th {\n",
              "        vertical-align: top;\n",
              "    }\n",
              "\n",
              "    .dataframe thead th {\n",
              "        text-align: right;\n",
              "    }\n",
              "</style>\n",
              "<table border=\"1\" class=\"dataframe\">\n",
              "  <thead>\n",
              "    <tr style=\"text-align: right;\">\n",
              "      <th></th>\n",
              "      <th>text</th>\n",
              "      <th>airline_sentiment</th>\n",
              "    </tr>\n",
              "  </thead>\n",
              "  <tbody>\n",
              "    <tr>\n",
              "      <th>0</th>\n",
              "      <td>what   said</td>\n",
              "      <td>neutral</td>\n",
              "    </tr>\n",
              "    <tr>\n",
              "      <th>1</th>\n",
              "      <td>plus you have added commercials to the experience    tacky</td>\n",
              "      <td>positive</td>\n",
              "    </tr>\n",
              "    <tr>\n",
              "      <th>2</th>\n",
              "      <td>i did not today    must mean i need to take another trip</td>\n",
              "      <td>neutral</td>\n",
              "    </tr>\n",
              "    <tr>\n",
              "      <th>3</th>\n",
              "      <td>it is really aggressive to blast obnoxious \"entertainment\" in your guests' faces &amp;amp  they ha...</td>\n",
              "      <td>negative</td>\n",
              "    </tr>\n",
              "    <tr>\n",
              "      <th>4</th>\n",
              "      <td>and it is a really big bad thing about it</td>\n",
              "      <td>negative</td>\n",
              "    </tr>\n",
              "  </tbody>\n",
              "</table>\n",
              "</div>"
            ],
            "text/plain": [
              "                                                                                                  text airline_sentiment\n",
              "0                                                                                         what   said            neutral\n",
              "1                                          plus you have added commercials to the experience    tacky           positive\n",
              "2                                            i did not today    must mean i need to take another trip            neutral\n",
              "3    it is really aggressive to blast obnoxious \"entertainment\" in your guests' faces &amp  they ha...          negative\n",
              "4                                                            and it is a really big bad thing about it          negative"
            ]
          },
          "metadata": {
            "tags": []
          },
          "execution_count": 168
        }
      ]
    },
    {
      "cell_type": "code",
      "metadata": {
        "id": "09mCnstFOVRw",
        "colab_type": "code",
        "colab": {
          "base_uri": "https://localhost:8080/",
          "height": 34
        },
        "outputId": "aff94f76-82b9-4c27-f121-f40393add79d"
      },
      "source": [
        "df.shape"
      ],
      "execution_count": 169,
      "outputs": [
        {
          "output_type": "execute_result",
          "data": {
            "text/plain": [
              "(14640, 2)"
            ]
          },
          "metadata": {
            "tags": []
          },
          "execution_count": 169
        }
      ]
    },
    {
      "cell_type": "code",
      "metadata": {
        "id": "pgy8i3nbROMW",
        "colab_type": "code",
        "colab": {}
      },
      "source": [
        "# Select attributes and target for further modelling\n",
        "attribute = df.text\n",
        "target = df.airline_sentiment"
      ],
      "execution_count": 170,
      "outputs": []
    },
    {
      "cell_type": "markdown",
      "metadata": {
        "id": "moke39bi2kmo",
        "colab_type": "text"
      },
      "source": [
        "# Data Segregation"
      ]
    },
    {
      "cell_type": "code",
      "metadata": {
        "ExecuteTime": {
          "end_time": "2019-01-12T02:42:13.095947Z",
          "start_time": "2019-01-12T02:42:13.052219Z"
        },
        "id": "Bkn4xOrJGDUV",
        "colab_type": "code",
        "colab": {
          "base_uri": "https://localhost:8080/",
          "height": 85
        },
        "outputId": "82bf6ce3-3d1d-42f7-85af-6f24b24d6ac1"
      },
      "source": [
        "# split data into train and test dataset\n",
        "attribute_train, attribute_test, target_train, target_test = train_test_split(attribute, target, test_size = 0.1, random_state = 225)\n",
        "\n",
        "print('attribute_train :', len(attribute_train))\n",
        "print('attribute_test  :', len(attribute_test))\n",
        "print('target_train :', len(target_train))\n",
        "print('target_test  :', len(target_test))"
      ],
      "execution_count": 171,
      "outputs": [
        {
          "output_type": "stream",
          "text": [
            "attribute_train : 13176\n",
            "attribute_test  : 1464\n",
            "target_train : 13176\n",
            "target_test  : 1464\n"
          ],
          "name": "stdout"
        }
      ]
    },
    {
      "cell_type": "markdown",
      "metadata": {
        "id": "cMkLiuu7205a",
        "colab_type": "text"
      },
      "source": [
        "# Model Building"
      ]
    },
    {
      "cell_type": "code",
      "metadata": {
        "id": "oTFjGO14R6X_",
        "colab_type": "code",
        "colab": {}
      },
      "source": [
        "# Create instance for vectorizer \n",
        "\n",
        "tvec = TfidfVectorizer()\n"
      ],
      "execution_count": 172,
      "outputs": []
    },
    {
      "cell_type": "markdown",
      "metadata": {
        "id": "r2c6ATTT3N_c",
        "colab_type": "text"
      },
      "source": [
        "# Logistic Regression"
      ]
    },
    {
      "cell_type": "code",
      "metadata": {
        "id": "YojX4QVrR6no",
        "colab_type": "code",
        "colab": {
          "base_uri": "https://localhost:8080/",
          "height": 564
        },
        "outputId": "1ceff566-92f1-44d2-a619-d5ffeeae1850"
      },
      "source": [
        "# Create instance for logistic regression\n",
        "clf2 = LogisticRegression()\n",
        "\n",
        "# pipeline \n",
        "logit_model = Pipeline([('vectorizer',tvec)\n",
        "                 ,('classifier',clf2)])\n",
        "# train the model\n",
        "logit_model.fit(attribute_train, target_train)"
      ],
      "execution_count": 173,
      "outputs": [
        {
          "output_type": "stream",
          "text": [
            "/usr/local/lib/python3.6/dist-packages/sklearn/linear_model/_logistic.py:940: ConvergenceWarning: lbfgs failed to converge (status=1):\n",
            "STOP: TOTAL NO. of ITERATIONS REACHED LIMIT.\n",
            "\n",
            "Increase the number of iterations (max_iter) or scale the data as shown in:\n",
            "    https://scikit-learn.org/stable/modules/preprocessing.html\n",
            "Please also refer to the documentation for alternative solver options:\n",
            "    https://scikit-learn.org/stable/modules/linear_model.html#logistic-regression\n",
            "  extra_warning_msg=_LOGISTIC_SOLVER_CONVERGENCE_MSG)\n"
          ],
          "name": "stderr"
        },
        {
          "output_type": "execute_result",
          "data": {
            "text/plain": [
              "Pipeline(memory=None,\n",
              "         steps=[('vectorizer',\n",
              "                 TfidfVectorizer(analyzer='word', binary=False,\n",
              "                                 decode_error='strict',\n",
              "                                 dtype=<class 'numpy.float64'>,\n",
              "                                 encoding='utf-8', input='content',\n",
              "                                 lowercase=True, max_df=1.0, max_features=None,\n",
              "                                 min_df=1, ngram_range=(1, 1), norm='l2',\n",
              "                                 preprocessor=None, smooth_idf=True,\n",
              "                                 stop_words=None, strip_accents=None,\n",
              "                                 sublinear_tf=False,\n",
              "                                 token_pattern='(?u)\\\\b\\\\w\\\\w+\\\\b',\n",
              "                                 tokenizer=None, use_idf=True,\n",
              "                                 vocabulary=None)),\n",
              "                ('classifier',\n",
              "                 LogisticRegression(C=1.0, class_weight=None, dual=False,\n",
              "                                    fit_intercept=True, intercept_scaling=1,\n",
              "                                    l1_ratio=None, max_iter=100,\n",
              "                                    multi_class='auto', n_jobs=None,\n",
              "                                    penalty='l2', random_state=None,\n",
              "                                    solver='lbfgs', tol=0.0001, verbose=0,\n",
              "                                    warm_start=False))],\n",
              "         verbose=False)"
            ]
          },
          "metadata": {
            "tags": []
          },
          "execution_count": 173
        }
      ]
    },
    {
      "cell_type": "code",
      "metadata": {
        "id": "-eZ2iYOCSMh2",
        "colab_type": "code",
        "colab": {
          "base_uri": "https://localhost:8080/",
          "height": 85
        },
        "outputId": "4049a430-e43e-44d2-cacf-61a46d2f76b2"
      },
      "source": [
        "# Predictions of model\n",
        "logit_pred = logit_model.predict(attribute_test)\n",
        "\n",
        "# Print confusion matrix\n",
        "print(pd.DataFrame(confusion_matrix(logit_pred, target_test)))\n"
      ],
      "execution_count": 174,
      "outputs": [
        {
          "output_type": "stream",
          "text": [
            "     0    1    2\n",
            "0  846  141   60\n",
            "1   30  181   31\n",
            "2    6   16  153\n"
          ],
          "name": "stdout"
        }
      ]
    },
    {
      "cell_type": "code",
      "metadata": {
        "id": "vhWFTDf_SMVy",
        "colab_type": "code",
        "colab": {
          "base_uri": "https://localhost:8080/",
          "height": 68
        },
        "outputId": "10829606-e4ac-4d45-916c-a915534aef1a"
      },
      "source": [
        "# Model evaluation on different metrics\n",
        "\n",
        "print(\"Accuracy : \", accuracy_score(logit_pred, target_test))\n",
        "print(\"Precision : \", precision_score(logit_pred, target_test, average = 'weighted'))\n",
        "print(\"Recall : \", recall_score(logit_pred, target_test, average = 'weighted'))\n",
        "\n",
        "\n",
        "accuracy_logit = accuracy_score(logit_pred, target_test)\n",
        "precision_logit = precision_score(logit_pred, target_test, average = 'weighted')\n",
        "recall_logit =recall_score(logit_pred, target_test, average = 'weighted')\n"
      ],
      "execution_count": 175,
      "outputs": [
        {
          "output_type": "stream",
          "text": [
            "Accuracy :  0.8060109289617486\n",
            "Precision :  0.849447150721419\n",
            "Recall :  0.8060109289617486\n"
          ],
          "name": "stdout"
        }
      ]
    },
    {
      "cell_type": "markdown",
      "metadata": {
        "id": "YnW2vU638bcT",
        "colab_type": "text"
      },
      "source": [
        "# DecisionTreeClassifier"
      ]
    },
    {
      "cell_type": "code",
      "metadata": {
        "id": "HzbWep9zSMUO",
        "colab_type": "code",
        "colab": {
          "base_uri": "https://localhost:8080/",
          "height": 459
        },
        "outputId": "4089340b-8994-4cde-eb9e-f346b8eb1e99"
      },
      "source": [
        "# Model instance\n",
        "dtree = DecisionTreeClassifier(max_depth=28, criterion = \"entropy\", min_samples_split=10) \n",
        "\n",
        "# pipeline\n",
        "dtree_model = Pipeline([('vectorizer',tvec)\n",
        "                 ,('classifier',dtree)])\n",
        "# train model\n",
        "dtree_model.fit(attribute_train, target_train)"
      ],
      "execution_count": 176,
      "outputs": [
        {
          "output_type": "execute_result",
          "data": {
            "text/plain": [
              "Pipeline(memory=None,\n",
              "         steps=[('vectorizer',\n",
              "                 TfidfVectorizer(analyzer='word', binary=False,\n",
              "                                 decode_error='strict',\n",
              "                                 dtype=<class 'numpy.float64'>,\n",
              "                                 encoding='utf-8', input='content',\n",
              "                                 lowercase=True, max_df=1.0, max_features=None,\n",
              "                                 min_df=1, ngram_range=(1, 1), norm='l2',\n",
              "                                 preprocessor=None, smooth_idf=True,\n",
              "                                 stop_words=None, strip_accents=None,\n",
              "                                 sublinear_tf=False,\n",
              "                                 token_patt...\n",
              "                                 tokenizer=None, use_idf=True,\n",
              "                                 vocabulary=None)),\n",
              "                ('classifier',\n",
              "                 DecisionTreeClassifier(ccp_alpha=0.0, class_weight=None,\n",
              "                                        criterion='entropy', max_depth=28,\n",
              "                                        max_features=None, max_leaf_nodes=None,\n",
              "                                        min_impurity_decrease=0.0,\n",
              "                                        min_impurity_split=None,\n",
              "                                        min_samples_leaf=1,\n",
              "                                        min_samples_split=10,\n",
              "                                        min_weight_fraction_leaf=0.0,\n",
              "                                        presort='deprecated', random_state=None,\n",
              "                                        splitter='best'))],\n",
              "         verbose=False)"
            ]
          },
          "metadata": {
            "tags": []
          },
          "execution_count": 176
        }
      ]
    },
    {
      "cell_type": "code",
      "metadata": {
        "id": "W_LScIBDqENf",
        "colab_type": "code",
        "colab": {
          "base_uri": "https://localhost:8080/",
          "height": 85
        },
        "outputId": "75b6efab-f0cf-4dc9-c7cf-0c4b30a81bad"
      },
      "source": [
        "# model predictions\n",
        "Dtree_pred = dtree_model.predict(attribute_test)\n",
        "\n",
        "# confusion matrix\n",
        "print(pd.DataFrame(confusion_matrix(Dtree_pred, target_test)))"
      ],
      "execution_count": 177,
      "outputs": [
        {
          "output_type": "stream",
          "text": [
            "     0    1    2\n",
            "0  784  231   95\n",
            "1   70   86   26\n",
            "2   28   21  123\n"
          ],
          "name": "stdout"
        }
      ]
    },
    {
      "cell_type": "code",
      "metadata": {
        "id": "yZsQz38dqEs9",
        "colab_type": "code",
        "colab": {
          "base_uri": "https://localhost:8080/",
          "height": 68
        },
        "outputId": "a8902e32-5e92-466b-bbf0-41a00096a309"
      },
      "source": [
        "# model evaluation on different metrics\n",
        "\n",
        "print(\"Accuracy : \", accuracy_score(Dtree_pred, target_test))\n",
        "print(\"Precision : \", precision_score(Dtree_pred, target_test, average = 'weighted'))\n",
        "print(\"Recall : \", recall_score(Dtree_pred, target_test, average = 'weighted'))\n",
        "\n",
        "\n",
        "accuracy_dtree = accuracy_score(Dtree_pred, target_test)\n",
        "precision_dtree = precision_score(Dtree_pred, target_test, average = 'weighted')\n",
        "recall_dtree =recall_score(Dtree_pred, target_test, average = 'weighted')\n",
        "\n"
      ],
      "execution_count": 178,
      "outputs": [
        {
          "output_type": "stream",
          "text": [
            "Accuracy :  0.6782786885245902\n",
            "Precision :  0.7648082493218209\n",
            "Recall :  0.6782786885245902\n"
          ],
          "name": "stdout"
        }
      ]
    },
    {
      "cell_type": "markdown",
      "metadata": {
        "id": "hRLTvmyV8sq2",
        "colab_type": "text"
      },
      "source": [
        "# RandomForestClassifier"
      ]
    },
    {
      "cell_type": "code",
      "metadata": {
        "id": "IwDWbMpJqEqQ",
        "colab_type": "code",
        "colab": {
          "base_uri": "https://localhost:8080/",
          "height": 442
        },
        "outputId": "ed1fad46-0d4e-4032-d141-2847fd4f32b4"
      },
      "source": [
        "# model instance for random forest\n",
        "rm = RandomForestClassifier(n_estimators = 10, max_depth=25, criterion = \"gini\", min_samples_split=10)\n",
        "\n",
        "# pipeline\n",
        "rm_model = Pipeline([('vectorizer',tvec)\n",
        "                 ,('classifier',rm)])\n",
        "\n",
        "# Train Model\n",
        "rm_model.fit(attribute_train, target_train)"
      ],
      "execution_count": 179,
      "outputs": [
        {
          "output_type": "execute_result",
          "data": {
            "text/plain": [
              "Pipeline(memory=None,\n",
              "         steps=[('vectorizer',\n",
              "                 TfidfVectorizer(analyzer='word', binary=False,\n",
              "                                 decode_error='strict',\n",
              "                                 dtype=<class 'numpy.float64'>,\n",
              "                                 encoding='utf-8', input='content',\n",
              "                                 lowercase=True, max_df=1.0, max_features=None,\n",
              "                                 min_df=1, ngram_range=(1, 1), norm='l2',\n",
              "                                 preprocessor=None, smooth_idf=True,\n",
              "                                 stop_words=None, strip_accents=None,\n",
              "                                 sublinear_tf=False,\n",
              "                                 token_patt...\n",
              "                 RandomForestClassifier(bootstrap=True, ccp_alpha=0.0,\n",
              "                                        class_weight=None, criterion='gini',\n",
              "                                        max_depth=25, max_features='auto',\n",
              "                                        max_leaf_nodes=None, max_samples=None,\n",
              "                                        min_impurity_decrease=0.0,\n",
              "                                        min_impurity_split=None,\n",
              "                                        min_samples_leaf=1,\n",
              "                                        min_samples_split=10,\n",
              "                                        min_weight_fraction_leaf=0.0,\n",
              "                                        n_estimators=10, n_jobs=None,\n",
              "                                        oob_score=False, random_state=None,\n",
              "                                        verbose=0, warm_start=False))],\n",
              "         verbose=False)"
            ]
          },
          "metadata": {
            "tags": []
          },
          "execution_count": 179
        }
      ]
    },
    {
      "cell_type": "code",
      "metadata": {
        "id": "HGzs7ZLgqEnO",
        "colab_type": "code",
        "colab": {
          "base_uri": "https://localhost:8080/",
          "height": 85
        },
        "outputId": "e5477249-c840-4edc-e30d-55f3f18cec49"
      },
      "source": [
        "# random forest predictions\n",
        "rm_pred = rm_model.predict(attribute_test)\n",
        "\n",
        "# confusion matrix for RandomForestClassifier\n",
        "print(pd.DataFrame(confusion_matrix(rm_pred, target_test)))"
      ],
      "execution_count": 180,
      "outputs": [
        {
          "output_type": "stream",
          "text": [
            "     0    1    2\n",
            "0  877  313  205\n",
            "1    4   20    6\n",
            "2    1    5   33\n"
          ],
          "name": "stdout"
        }
      ]
    },
    {
      "cell_type": "code",
      "metadata": {
        "id": "8P600_e4tFgJ",
        "colab_type": "code",
        "colab": {
          "base_uri": "https://localhost:8080/",
          "height": 68
        },
        "outputId": "131e509b-4d9f-4831-90e4-974d93deb86d"
      },
      "source": [
        "# Model Evaluation\n",
        "\n",
        "print(\"Accuracy : \", accuracy_score(rm_pred, target_test))\n",
        "print(\"Precision : \", precision_score(rm_pred, target_test,average='weighted'))\n",
        "print(\"Recall : \", recall_score(rm_pred, target_test,average='weighted'))\n",
        "\n",
        "\n",
        "accuracy_rm = accuracy_score(rm_pred, target_test)\n",
        "precision_rm = precision_score(rm_pred, target_test, average = 'weighted')\n",
        "recall_rm =recall_score(rm_pred, target_test, average = 'weighted')"
      ],
      "execution_count": 181,
      "outputs": [
        {
          "output_type": "stream",
          "text": [
            "Accuracy :  0.6352459016393442\n",
            "Precision :  0.9522824964669551\n",
            "Recall :  0.6352459016393442\n"
          ],
          "name": "stdout"
        }
      ]
    },
    {
      "cell_type": "markdown",
      "metadata": {
        "id": "jUCFMdhd88eM",
        "colab_type": "text"
      },
      "source": [
        "# **XGB Classifier**"
      ]
    },
    {
      "cell_type": "code",
      "metadata": {
        "id": "O2lVuDXRtFsb",
        "colab_type": "code",
        "colab": {
          "base_uri": "https://localhost:8080/",
          "height": 408
        },
        "outputId": "546188da-86fe-4ac8-88f1-a4c07211b4a8"
      },
      "source": [
        "# instance of XGB classifier\n",
        "xg=XGBClassifier(learning_rate = 0.05, n_estimators=300, max_depth=5)\n",
        "\n",
        "\n",
        "# Pipeline for XGB Classifier\n",
        "xg_model = Pipeline([('vectorizer',tvec)\n",
        "                 ,('classifier',xg)])\n",
        "# Train Model\n",
        "xg_model.fit(attribute_train, target_train)"
      ],
      "execution_count": 182,
      "outputs": [
        {
          "output_type": "execute_result",
          "data": {
            "text/plain": [
              "Pipeline(memory=None,\n",
              "         steps=[('vectorizer',\n",
              "                 TfidfVectorizer(analyzer='word', binary=False,\n",
              "                                 decode_error='strict',\n",
              "                                 dtype=<class 'numpy.float64'>,\n",
              "                                 encoding='utf-8', input='content',\n",
              "                                 lowercase=True, max_df=1.0, max_features=None,\n",
              "                                 min_df=1, ngram_range=(1, 1), norm='l2',\n",
              "                                 preprocessor=None, smooth_idf=True,\n",
              "                                 stop_words=None, strip_accents=None,\n",
              "                                 sublinear_tf=False,\n",
              "                                 token_patt...\n",
              "                 XGBClassifier(base_score=0.5, booster='gbtree',\n",
              "                               colsample_bylevel=1, colsample_bynode=1,\n",
              "                               colsample_bytree=1, gamma=0, learning_rate=0.05,\n",
              "                               max_delta_step=0, max_depth=5,\n",
              "                               min_child_weight=1, missing=None,\n",
              "                               n_estimators=300, n_jobs=1, nthread=None,\n",
              "                               objective='multi:softprob', random_state=0,\n",
              "                               reg_alpha=0, reg_lambda=1, scale_pos_weight=1,\n",
              "                               seed=None, silent=None, subsample=1,\n",
              "                               verbosity=1))],\n",
              "         verbose=False)"
            ]
          },
          "metadata": {
            "tags": []
          },
          "execution_count": 182
        }
      ]
    },
    {
      "cell_type": "code",
      "metadata": {
        "id": "xHydSYj4tFvU",
        "colab_type": "code",
        "colab": {
          "base_uri": "https://localhost:8080/",
          "height": 85
        },
        "outputId": "c1808019-2a2a-4abc-c910-283d0ab2ef45"
      },
      "source": [
        "# XGB classifier predictions\n",
        "xg_pred = model3.predict(attribute_test)\n",
        "\n",
        "# Confusion matrix for XGB Classsifier\n",
        "print(pd.DataFrame(confusion_matrix(xg_pred, target_test)))\n",
        "\n"
      ],
      "execution_count": 183,
      "outputs": [
        {
          "output_type": "stream",
          "text": [
            "     0    1    2\n",
            "0  840  175   78\n",
            "1   35  142   25\n",
            "2    7   21  141\n"
          ],
          "name": "stdout"
        }
      ]
    },
    {
      "cell_type": "code",
      "metadata": {
        "id": "k_6kBi6ntF4s",
        "colab_type": "code",
        "colab": {
          "base_uri": "https://localhost:8080/",
          "height": 68
        },
        "outputId": "350444df-d167-43cf-ea10-3cfddd6a708f"
      },
      "source": [
        "# Model evaluation\n",
        "print(\"Accuracy : \", accuracy_score(xg_pred, target_test))\n",
        "print(\"Precision : \", precision_score(xg_pred, target_test,average='weighted'))\n",
        "print(\"Recall : \", recall_score(xg_pred, target_test,average='weighted'))\n",
        "\n",
        "\n",
        "accuracy_xg = accuracy_score(xg_pred, target_test)\n",
        "precision_xg = precision_score(xg_pred, target_test, average = 'weighted')\n",
        "recall_xg =recall_score(xg_pred, target_test, average = 'weighted')"
      ],
      "execution_count": 184,
      "outputs": [
        {
          "output_type": "stream",
          "text": [
            "Accuracy :  0.7670765027322405\n",
            "Precision :  0.8357077338411191\n",
            "Recall :  0.7670765027322405\n"
          ],
          "name": "stdout"
        }
      ]
    },
    {
      "cell_type": "markdown",
      "metadata": {
        "id": "DsxXpRTe9YHE",
        "colab_type": "text"
      },
      "source": [
        "# SVClassifier"
      ]
    },
    {
      "cell_type": "code",
      "metadata": {
        "id": "uA4WmmlKtGDw",
        "colab_type": "code",
        "colab": {
          "base_uri": "https://localhost:8080/",
          "height": 374
        },
        "outputId": "12bc31b5-4419-40b8-e071-41f043dd2470"
      },
      "source": [
        "# model instance for SVClassifier\n",
        "svclassifier = SVC(kernel='linear')\n",
        "\n",
        "# pipeline for SVC\n",
        "svc_model = Pipeline([('vectorizer',tvec)\n",
        "                 ,('classifier',svclassifier)])\n",
        "# Train SVC model\n",
        "svc_model.fit(attribute_train, target_train)\n"
      ],
      "execution_count": 185,
      "outputs": [
        {
          "output_type": "execute_result",
          "data": {
            "text/plain": [
              "Pipeline(memory=None,\n",
              "         steps=[('vectorizer',\n",
              "                 TfidfVectorizer(analyzer='word', binary=False,\n",
              "                                 decode_error='strict',\n",
              "                                 dtype=<class 'numpy.float64'>,\n",
              "                                 encoding='utf-8', input='content',\n",
              "                                 lowercase=True, max_df=1.0, max_features=None,\n",
              "                                 min_df=1, ngram_range=(1, 1), norm='l2',\n",
              "                                 preprocessor=None, smooth_idf=True,\n",
              "                                 stop_words=None, strip_accents=None,\n",
              "                                 sublinear_tf=False,\n",
              "                                 token_pattern='(?u)\\\\b\\\\w\\\\w+\\\\b',\n",
              "                                 tokenizer=None, use_idf=True,\n",
              "                                 vocabulary=None)),\n",
              "                ('classifier',\n",
              "                 SVC(C=1.0, break_ties=False, cache_size=200, class_weight=None,\n",
              "                     coef0=0.0, decision_function_shape='ovr', degree=3,\n",
              "                     gamma='scale', kernel='linear', max_iter=-1,\n",
              "                     probability=False, random_state=None, shrinking=True,\n",
              "                     tol=0.001, verbose=False))],\n",
              "         verbose=False)"
            ]
          },
          "metadata": {
            "tags": []
          },
          "execution_count": 185
        }
      ]
    },
    {
      "cell_type": "code",
      "metadata": {
        "id": "aq3BaViatF1P",
        "colab_type": "code",
        "colab": {
          "base_uri": "https://localhost:8080/",
          "height": 85
        },
        "outputId": "efb5fea1-25ea-479a-c763-35efe7ab59cf"
      },
      "source": [
        "# SVC predictions\n",
        "svc_pred = model4.predict(attribute_test)\n",
        "\n",
        "# SVC Confusion matrix\n",
        "print(pd.DataFrame(confusion_matrix(svc_pred, target_test)))"
      ],
      "execution_count": 186,
      "outputs": [
        {
          "output_type": "stream",
          "text": [
            "     0    1    2\n",
            "0  836  135   56\n",
            "1   37  185   30\n",
            "2    9   18  158\n"
          ],
          "name": "stdout"
        }
      ]
    },
    {
      "cell_type": "code",
      "metadata": {
        "id": "rh1gcrkCtFz3",
        "colab_type": "code",
        "colab": {
          "base_uri": "https://localhost:8080/",
          "height": 68
        },
        "outputId": "0cc6301f-ee36-43c6-855c-207c29d01ee1"
      },
      "source": [
        "# Model evaluation\n",
        "\n",
        "print(\"Accuracy : \", accuracy_score(svc_pred, target_test))\n",
        "print(\"Precision : \", precision_score(svc_pred, target_test,average='weighted'))\n",
        "print(\"Recall : \", recall_score(svc_pred, target_test,average='weighted'))\n",
        "\n",
        "\n",
        "accuracy_svc = accuracy_score(svc_pred, target_test)\n",
        "precision_svc = precision_score(svc_pred, target_test, average = 'weighted')\n",
        "recall_svc =recall_score(svc_pred, target_test, average = 'weighted')"
      ],
      "execution_count": 188,
      "outputs": [
        {
          "output_type": "stream",
          "text": [
            "Accuracy :  0.805327868852459\n",
            "Precision :  0.8409574574954981\n",
            "Recall :  0.805327868852459\n"
          ],
          "name": "stdout"
        }
      ]
    },
    {
      "cell_type": "markdown",
      "metadata": {
        "id": "g2ij4UrmIlYc",
        "colab_type": "text"
      },
      "source": [
        "# Model Comparison"
      ]
    },
    {
      "cell_type": "code",
      "metadata": {
        "id": "RCA126jgIiBk",
        "colab_type": "code",
        "colab": {
          "base_uri": "https://localhost:8080/",
          "height": 515
        },
        "outputId": "63acd089-5c13-4a0b-9684-0bc687a220f6"
      },
      "source": [
        "\n",
        "\n",
        "plt.figure(figsize=(14, 7))\n",
        "ax = plt.subplot(111)\n",
        "\n",
        "models = ['Logistic Regression', 'Decision Tree', 'Random Forests', 'XGBoost','SVC']\n",
        "values = [accuracy_logit, accuracy_dtree,accuracy_rm,accuracy_xg,accuracy_svc]\n",
        "model = np.arange(len(models))\n",
        "\n",
        "plt.bar(model, values, align='center', width = 0.15, alpha=0.7, color = 'red', label= 'accuracy')\n",
        "plt.xticks(model, models)\n",
        "           \n",
        "\n",
        "           \n",
        "ax = plt.subplot(111)\n",
        "\n",
        "models = ['Logistic Regression', 'Decision Tree', 'Random Forests', 'XGBoost','SVC']\n",
        "values = [precision_logit, precision_dtree, precision_rm,precision_xg,precision_svc]\n",
        "model = np.arange(len(models))\n",
        "\n",
        "plt.bar(model+0.15, values, align='center', width = 0.15, alpha=0.7, color = 'blue', label = 'precision')\n",
        "plt.xticks(model, models)\n",
        "\n",
        "\n",
        "\n",
        "ax = plt.subplot(111)\n",
        "\n",
        "models = ['Logistic Regression', 'Decision Tree', 'Random Forests', 'XGBoost','SVC']\n",
        "values = [recall_logit, recall_dtree,recall_rm, recall_xg ,recall_svc]\n",
        "model = np.arange(len(models))\n",
        "\n",
        "plt.bar(model+0.3, values, align='center', width = 0.15, alpha=0.7, color = 'green', label = 'recall')\n",
        "plt.xticks(model, models)\n",
        "\n",
        "\n",
        "\n",
        "plt.ylabel('Performance Metrics for Different models')\n",
        "plt.title('Model')\n",
        "    \n",
        "# removing the axis on the top and right of the plot window\n",
        "ax.spines['right'].set_visible(False)\n",
        "ax.spines['top'].set_visible(False)\n",
        "ax.legend(loc='upper center')\n",
        "\n",
        "plt.show()"
      ],
      "execution_count": 189,
      "outputs": [
        {
          "output_type": "stream",
          "text": [
            "/usr/local/lib/python3.6/dist-packages/ipykernel_launcher.py:15: MatplotlibDeprecationWarning: Adding an axes using the same arguments as a previous axes currently reuses the earlier instance.  In a future version, a new instance will always be created and returned.  Meanwhile, this warning can be suppressed, and the future behavior ensured, by passing a unique label to each axes instance.\n",
            "  from ipykernel import kernelapp as app\n",
            "/usr/local/lib/python3.6/dist-packages/ipykernel_launcher.py:26: MatplotlibDeprecationWarning: Adding an axes using the same arguments as a previous axes currently reuses the earlier instance.  In a future version, a new instance will always be created and returned.  Meanwhile, this warning can be suppressed, and the future behavior ensured, by passing a unique label to each axes instance.\n"
          ],
          "name": "stderr"
        },
        {
          "output_type": "display_data",
          "data": {
            "image/png": "[encoded data removed]",
            "text/plain": [
              "<Figure size 1008x504 with 1 Axes>"
            ]
          },
          "metadata": {
            "tags": [],
            "needs_background": "light"
          }
        }
      ]
    },
    {
      "cell_type": "code",
      "metadata": {
        "id": "w00OqJxiIijY",
        "colab_type": "code",
        "colab": {}
      },
      "source": [
        ""
      ],
      "execution_count": null,
      "outputs": []
    },
    {
      "cell_type": "markdown",
      "metadata": {
        "id": "DPEa2nGXmvxW",
        "colab_type": "text"
      },
      "source": [
        ""
      ]
    }
  ]
}
